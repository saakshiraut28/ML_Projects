{
 "cells": [
  {
   "cell_type": "markdown",
   "id": "8544fa0e",
   "metadata": {},
   "source": [
    "<h1>Introduction to Python</h1>"
   ]
  },
  {
   "cell_type": "code",
   "execution_count": 1,
   "id": "54d3b092",
   "metadata": {},
   "outputs": [
    {
     "name": "stdout",
     "output_type": "stream",
     "text": [
      "Hello World\n"
     ]
    }
   ],
   "source": [
    "print(\"Hello World\")"
   ]
  },
  {
   "cell_type": "markdown",
   "id": "74272366",
   "metadata": {},
   "source": [
    "### Conditional Statement"
   ]
  },
  {
   "cell_type": "code",
   "execution_count": 4,
   "id": "056f9bd1",
   "metadata": {
    "scrolled": true
   },
   "outputs": [
    {
     "name": "stdout",
     "output_type": "stream",
     "text": [
      "Good\n"
     ]
    }
   ],
   "source": [
    "marks = 90\n",
    "if marks >= 90:\n",
    "    print(\"Good\")\n",
    "elif marks <= 60:\n",
    "    print(\"Average\")\n",
    "else:\n",
    "    print(\"Try better next time.\")"
   ]
  },
  {
   "cell_type": "markdown",
   "id": "c883a6f4",
   "metadata": {},
   "source": [
    "### Iterative Statment."
   ]
  },
  {
   "cell_type": "code",
   "execution_count": 6,
   "id": "fa4b0ad1",
   "metadata": {},
   "outputs": [
    {
     "name": "stdout",
     "output_type": "stream",
     "text": [
      "Machine Learning is awesome.\n",
      "Machine Learning is awesome.\n",
      "Machine Learning is awesome.\n",
      "Machine Learning is awesome.\n",
      "Machine Learning is awesome.\n"
     ]
    }
   ],
   "source": [
    "for i in range(0, 5):\n",
    "    print(\"Machine Learning is awesome.\")"
   ]
  },
  {
   "cell_type": "code",
   "execution_count": 9,
   "id": "8a18b7df",
   "metadata": {},
   "outputs": [
    {
     "name": "stdout",
     "output_type": "stream",
     "text": [
      "Enter the number: 4\n",
      "24\n"
     ]
    }
   ],
   "source": [
    "# Calculating Factorial\n",
    "num = int(input(\"Enter the number: \"))\n",
    "fact = 1\n",
    "for i in range(1,num+1):\n",
    "    fact = fact * i\n",
    "print(fact)"
   ]
  },
  {
   "cell_type": "markdown",
   "id": "2ebc5881",
   "metadata": {},
   "source": [
    "### Functions."
   ]
  },
  {
   "cell_type": "code",
   "execution_count": 13,
   "id": "a55a6709",
   "metadata": {},
   "outputs": [
    {
     "name": "stdout",
     "output_type": "stream",
     "text": [
      "30\n",
      "9\n",
      "3\n"
     ]
    }
   ],
   "source": [
    "import numpy as np\n",
    "array = [3,5,6,9,7]\n",
    "print(sum(array))\n",
    "print(max(array))\n",
    "print(min(array))"
   ]
  },
  {
   "cell_type": "markdown",
   "id": "c5c72575",
   "metadata": {},
   "source": [
    "### User-defined Functions."
   ]
  },
  {
   "cell_type": "code",
   "execution_count": 15,
   "id": "330ddba3",
   "metadata": {},
   "outputs": [
    {
     "name": "stdout",
     "output_type": "stream",
     "text": [
      "Enter the number: 10\n"
     ]
    },
    {
     "data": {
      "text/plain": [
       "100"
      ]
     },
     "execution_count": 15,
     "metadata": {},
     "output_type": "execute_result"
    }
   ],
   "source": [
    "def square(a):\n",
    "    return a*a\n",
    "\n",
    "num = int(input(\"Enter the number: \"))\n",
    "square(num)"
   ]
  },
  {
   "cell_type": "markdown",
   "id": "344bc8bc",
   "metadata": {},
   "source": [
    "### Combination Function Example"
   ]
  },
  {
   "cell_type": "code",
   "execution_count": 18,
   "id": "dd2fe4ce",
   "metadata": {},
   "outputs": [
    {
     "name": "stdout",
     "output_type": "stream",
     "text": [
      "No. of combinations: 10\n",
      "No. of combinations picked: 6\n",
      "The combination is 210.0\n"
     ]
    }
   ],
   "source": [
    "def fact(val):\n",
    "    fact_num = 1\n",
    "    for i in range(1, val+1):\n",
    "        fact_num = fact_num*i\n",
    "    return fact_num\n",
    "\n",
    "\n",
    "n = int(input('No. of combinations: '))\n",
    "r = int(input('No. of combinations picked: '))\n",
    "\n",
    "C = fact(n)/(fact(r)*fact(n-r))\n",
    "print(\"The combination is \"+str(C))"
   ]
  },
  {
   "cell_type": "code",
   "execution_count": 21,
   "id": "9e8d141d",
   "metadata": {},
   "outputs": [
    {
     "name": "stdout",
     "output_type": "stream",
     "text": [
      "[0, 1]\n"
     ]
    }
   ],
   "source": [
    "def fun(n, l=[]):\n",
    "    for i in range(n):\n",
    "        l.append(i*i)\n",
    "    print(l)\n",
    "        \n",
    "num=2\n",
    "fun(num)\n"
   ]
  },
  {
   "cell_type": "markdown",
   "id": "fb7555e7",
   "metadata": {},
   "source": [
    "### Module Test"
   ]
  },
  {
   "cell_type": "code",
   "execution_count": 2,
   "id": "4d4f3c40",
   "metadata": {},
   "outputs": [
    {
     "name": "stdout",
     "output_type": "stream",
     "text": [
      "[5, 2, 3]\n",
      "[5, 2, 3]\n"
     ]
    }
   ],
   "source": [
    "def fun(x):\n",
    "    x[0]=5\n",
    "    return x\n",
    "\n",
    "g = [1,2,3]\n",
    "print(fun(g))\n",
    "print(g)"
   ]
  },
  {
   "cell_type": "code",
   "execution_count": 5,
   "id": "6fe8bb07",
   "metadata": {},
   "outputs": [
    {
     "name": "stdout",
     "output_type": "stream",
     "text": [
      "['Hi', \"I'm\", 'Saakshi', 'Raut.']\n"
     ]
    }
   ],
   "source": [
    "array = \"Hi I'm Saakshi Raut.\"\n",
    "lists = array.split(\" \")\n",
    "print(lists)"
   ]
  },
  {
   "cell_type": "code",
   "execution_count": 6,
   "id": "c1ef2613",
   "metadata": {},
   "outputs": [
    {
     "data": {
      "text/plain": [
       "False"
      ]
     },
     "execution_count": 6,
     "metadata": {},
     "output_type": "execute_result"
    }
   ],
   "source": [
    "not(5<10)and not(5>15)"
   ]
  },
  {
   "cell_type": "code",
   "execution_count": 8,
   "id": "770618d6",
   "metadata": {},
   "outputs": [
    {
     "name": "stdout",
     "output_type": "stream",
     "text": [
      "[[50], 20, 30, 40] [[50], 20, 30, 40] [10, 20, 30, 40] [10, 20, 30, 40]\n"
     ]
    }
   ],
   "source": [
    "L1 = [10,20,30,40]\n",
    "l2=L1\n",
    "l3 = L1.copy()\n",
    "l4 = list(L1)\n",
    "L1[0]=[50]\n",
    "print(L1,l2,l3,l4)"
   ]
  },
  {
   "cell_type": "code",
   "execution_count": 10,
   "id": "080bee26",
   "metadata": {},
   "outputs": [
    {
     "name": "stdout",
     "output_type": "stream",
     "text": [
      "7\n"
     ]
    }
   ],
   "source": [
    "L1 = list()\n",
    "L1.append([2,[5,6],4])\n",
    "L1.extend([4,1,3])\n",
    "print(L1[0][1][1]+L1[2])"
   ]
  },
  {
   "cell_type": "code",
   "execution_count": 11,
   "id": "ced08655",
   "metadata": {},
   "outputs": [
    {
     "name": "stdout",
     "output_type": "stream",
     "text": [
      "(6,)\n"
     ]
    }
   ],
   "source": [
    "import numpy as np\n",
    "my_array = np.array([1,2,3,4,5,6])\n",
    "print(my_array.shape)"
   ]
  },
  {
   "cell_type": "code",
   "execution_count": null,
   "id": "8a1d6148",
   "metadata": {},
   "outputs": [],
   "source": []
  }
 ],
 "metadata": {
  "kernelspec": {
   "display_name": "Python 3",
   "language": "python",
   "name": "python3"
  },
  "language_info": {
   "codemirror_mode": {
    "name": "ipython",
    "version": 3
   },
   "file_extension": ".py",
   "mimetype": "text/x-python",
   "name": "python",
   "nbconvert_exporter": "python",
   "pygments_lexer": "ipython3",
   "version": "3.8.8"
  }
 },
 "nbformat": 4,
 "nbformat_minor": 5
}
