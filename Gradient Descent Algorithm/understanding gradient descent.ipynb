{
 "cells": [
  {
   "cell_type": "markdown",
   "id": "b5f1bc2f",
   "metadata": {},
   "source": [
    "# GRADIENT DESCENT ALGORITHM"
   ]
  },
  {
   "cell_type": "raw",
   "id": "4ed013d7",
   "metadata": {},
   "source": [
    "Gradient Descent Algorithm is an optimization technique which is used to find the minimum value of a conves function with respect to the set of parameters."
   ]
  },
  {
   "cell_type": "code",
   "execution_count": null,
   "id": "2d7bc0ee",
   "metadata": {},
   "outputs": [],
   "source": []
  }
 ],
 "metadata": {
  "kernelspec": {
   "display_name": "Python 3",
   "language": "python",
   "name": "python3"
  },
  "language_info": {
   "codemirror_mode": {
    "name": "ipython",
    "version": 3
   },
   "file_extension": ".py",
   "mimetype": "text/x-python",
   "name": "python",
   "nbconvert_exporter": "python",
   "pygments_lexer": "ipython3",
   "version": "3.8.8"
  }
 },
 "nbformat": 4,
 "nbformat_minor": 5
}
