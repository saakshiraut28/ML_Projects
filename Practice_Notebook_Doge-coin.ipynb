{
 "cells": [
  {
   "cell_type": "markdown",
   "id": "ab64583a",
   "metadata": {},
   "source": [
    "<h2>Dataset 2 - DOGECOIN</h2>"
   ]
  },
  {
   "cell_type": "code",
   "execution_count": 4,
   "id": "5ee52d99",
   "metadata": {},
   "outputs": [],
   "source": [
    "import pandas as pd\n",
    "\n",
    "\n",
    "Doge_Coin_Data = pd.read_csv('DOGE-USD.csv')"
   ]
  },
  {
   "cell_type": "code",
   "execution_count": 21,
   "id": "42e6898b",
   "metadata": {},
   "outputs": [
    {
     "data": {
      "text/html": [
       "<div>\n",
       "<style scoped>\n",
       "    .dataframe tbody tr th:only-of-type {\n",
       "        vertical-align: middle;\n",
       "    }\n",
       "\n",
       "    .dataframe tbody tr th {\n",
       "        vertical-align: top;\n",
       "    }\n",
       "\n",
       "    .dataframe thead th {\n",
       "        text-align: right;\n",
       "    }\n",
       "</style>\n",
       "<table border=\"1\" class=\"dataframe\">\n",
       "  <thead>\n",
       "    <tr style=\"text-align: right;\">\n",
       "      <th></th>\n",
       "      <th>Date</th>\n",
       "      <th>Open</th>\n",
       "      <th>High</th>\n",
       "      <th>Low</th>\n",
       "      <th>Close</th>\n",
       "      <th>Adj Close</th>\n",
       "      <th>Volume</th>\n",
       "    </tr>\n",
       "  </thead>\n",
       "  <tbody>\n",
       "    <tr>\n",
       "      <th>0</th>\n",
       "      <td>2017-08-24</td>\n",
       "      <td>0.001731</td>\n",
       "      <td>0.001845</td>\n",
       "      <td>0.001722</td>\n",
       "      <td>0.001816</td>\n",
       "      <td>0.001816</td>\n",
       "      <td>4.796720e+06</td>\n",
       "    </tr>\n",
       "    <tr>\n",
       "      <th>1</th>\n",
       "      <td>2017-08-25</td>\n",
       "      <td>0.001808</td>\n",
       "      <td>0.001830</td>\n",
       "      <td>0.001762</td>\n",
       "      <td>0.001790</td>\n",
       "      <td>0.001790</td>\n",
       "      <td>2.654040e+06</td>\n",
       "    </tr>\n",
       "    <tr>\n",
       "      <th>2</th>\n",
       "      <td>2017-08-26</td>\n",
       "      <td>0.001787</td>\n",
       "      <td>0.001797</td>\n",
       "      <td>0.001735</td>\n",
       "      <td>0.001778</td>\n",
       "      <td>0.001778</td>\n",
       "      <td>1.935350e+06</td>\n",
       "    </tr>\n",
       "    <tr>\n",
       "      <th>3</th>\n",
       "      <td>2017-08-27</td>\n",
       "      <td>0.001779</td>\n",
       "      <td>0.001784</td>\n",
       "      <td>0.001745</td>\n",
       "      <td>0.001760</td>\n",
       "      <td>0.001760</td>\n",
       "      <td>2.241620e+06</td>\n",
       "    </tr>\n",
       "    <tr>\n",
       "      <th>4</th>\n",
       "      <td>2017-08-28</td>\n",
       "      <td>0.001764</td>\n",
       "      <td>0.001825</td>\n",
       "      <td>0.001751</td>\n",
       "      <td>0.001825</td>\n",
       "      <td>0.001825</td>\n",
       "      <td>3.210440e+06</td>\n",
       "    </tr>\n",
       "    <tr>\n",
       "      <th>...</th>\n",
       "      <td>...</td>\n",
       "      <td>...</td>\n",
       "      <td>...</td>\n",
       "      <td>...</td>\n",
       "      <td>...</td>\n",
       "      <td>...</td>\n",
       "      <td>...</td>\n",
       "    </tr>\n",
       "    <tr>\n",
       "      <th>1457</th>\n",
       "      <td>2021-08-20</td>\n",
       "      <td>0.317571</td>\n",
       "      <td>0.333223</td>\n",
       "      <td>0.314142</td>\n",
       "      <td>0.327491</td>\n",
       "      <td>0.327491</td>\n",
       "      <td>3.512291e+09</td>\n",
       "    </tr>\n",
       "    <tr>\n",
       "      <th>1458</th>\n",
       "      <td>2021-08-21</td>\n",
       "      <td>0.327395</td>\n",
       "      <td>0.329356</td>\n",
       "      <td>0.315433</td>\n",
       "      <td>0.316797</td>\n",
       "      <td>0.316797</td>\n",
       "      <td>2.600397e+09</td>\n",
       "    </tr>\n",
       "    <tr>\n",
       "      <th>1459</th>\n",
       "      <td>2021-08-22</td>\n",
       "      <td>0.317085</td>\n",
       "      <td>0.321541</td>\n",
       "      <td>0.306546</td>\n",
       "      <td>0.314963</td>\n",
       "      <td>0.314963</td>\n",
       "      <td>2.237836e+09</td>\n",
       "    </tr>\n",
       "    <tr>\n",
       "      <th>1460</th>\n",
       "      <td>2021-08-23</td>\n",
       "      <td>0.314926</td>\n",
       "      <td>0.328094</td>\n",
       "      <td>0.313368</td>\n",
       "      <td>0.317914</td>\n",
       "      <td>0.317914</td>\n",
       "      <td>2.836629e+09</td>\n",
       "    </tr>\n",
       "    <tr>\n",
       "      <th>1461</th>\n",
       "      <td>2021-08-24</td>\n",
       "      <td>0.317984</td>\n",
       "      <td>0.319460</td>\n",
       "      <td>0.311619</td>\n",
       "      <td>0.312391</td>\n",
       "      <td>0.312391</td>\n",
       "      <td>2.088121e+09</td>\n",
       "    </tr>\n",
       "  </tbody>\n",
       "</table>\n",
       "<p>1462 rows × 7 columns</p>\n",
       "</div>"
      ],
      "text/plain": [
       "            Date      Open      High       Low     Close  Adj Close  \\\n",
       "0     2017-08-24  0.001731  0.001845  0.001722  0.001816   0.001816   \n",
       "1     2017-08-25  0.001808  0.001830  0.001762  0.001790   0.001790   \n",
       "2     2017-08-26  0.001787  0.001797  0.001735  0.001778   0.001778   \n",
       "3     2017-08-27  0.001779  0.001784  0.001745  0.001760   0.001760   \n",
       "4     2017-08-28  0.001764  0.001825  0.001751  0.001825   0.001825   \n",
       "...          ...       ...       ...       ...       ...        ...   \n",
       "1457  2021-08-20  0.317571  0.333223  0.314142  0.327491   0.327491   \n",
       "1458  2021-08-21  0.327395  0.329356  0.315433  0.316797   0.316797   \n",
       "1459  2021-08-22  0.317085  0.321541  0.306546  0.314963   0.314963   \n",
       "1460  2021-08-23  0.314926  0.328094  0.313368  0.317914   0.317914   \n",
       "1461  2021-08-24  0.317984  0.319460  0.311619  0.312391   0.312391   \n",
       "\n",
       "            Volume  \n",
       "0     4.796720e+06  \n",
       "1     2.654040e+06  \n",
       "2     1.935350e+06  \n",
       "3     2.241620e+06  \n",
       "4     3.210440e+06  \n",
       "...            ...  \n",
       "1457  3.512291e+09  \n",
       "1458  2.600397e+09  \n",
       "1459  2.237836e+09  \n",
       "1460  2.836629e+09  \n",
       "1461  2.088121e+09  \n",
       "\n",
       "[1462 rows x 7 columns]"
      ]
     },
     "execution_count": 21,
     "metadata": {},
     "output_type": "execute_result"
    }
   ],
   "source": [
    "Doge_Coin_Data"
   ]
  },
  {
   "cell_type": "code",
   "execution_count": 3,
   "id": "be674703",
   "metadata": {},
   "outputs": [
    {
     "name": "stdout",
     "output_type": "stream",
     "text": [
      "<class 'pandas.core.frame.DataFrame'>\n",
      "RangeIndex: 1462 entries, 0 to 1461\n",
      "Data columns (total 7 columns):\n",
      " #   Column     Non-Null Count  Dtype  \n",
      "---  ------     --------------  -----  \n",
      " 0   Date       1462 non-null   object \n",
      " 1   Open       1458 non-null   float64\n",
      " 2   High       1458 non-null   float64\n",
      " 3   Low        1458 non-null   float64\n",
      " 4   Close      1458 non-null   float64\n",
      " 5   Adj Close  1458 non-null   float64\n",
      " 6   Volume     1458 non-null   float64\n",
      "dtypes: float64(6), object(1)\n",
      "memory usage: 80.1+ KB\n"
     ]
    }
   ],
   "source": [
    "Doge_Coin_Data.info()"
   ]
  },
  {
   "cell_type": "code",
   "execution_count": 4,
   "id": "d60af6cb",
   "metadata": {},
   "outputs": [
    {
     "data": {
      "text/plain": [
       "count    1.458000e+03\n",
       "mean     9.026038e+08\n",
       "std      3.842058e+09\n",
       "min      1.072410e+06\n",
       "25%      1.672411e+07\n",
       "50%      4.818314e+07\n",
       "75%      1.610538e+08\n",
       "max      6.941068e+10\n",
       "Name: Volume, dtype: float64"
      ]
     },
     "execution_count": 4,
     "metadata": {},
     "output_type": "execute_result"
    }
   ],
   "source": [
    "Doge_Coin_Data['Volume'].describe()"
   ]
  },
  {
   "cell_type": "code",
   "execution_count": 5,
   "id": "022f1569",
   "metadata": {},
   "outputs": [
    {
     "data": {
      "text/plain": [
       "0      4796720.0\n",
       "1      2654040.0\n",
       "2      1935350.0\n",
       "3      2241620.0\n",
       "4      3210440.0\n",
       "5      6879110.0\n",
       "6     17500900.0\n",
       "7     12968400.0\n",
       "8     16681400.0\n",
       "9     23789600.0\n",
       "10     8700780.0\n",
       "11    11195900.0\n",
       "12    11565200.0\n",
       "13    11077100.0\n",
       "14     7589980.0\n",
       "Name: Volume, dtype: float64"
      ]
     },
     "execution_count": 5,
     "metadata": {},
     "output_type": "execute_result"
    }
   ],
   "source": [
    "Doge_Coin_Data['Volume'].head(15)"
   ]
  },
  {
   "cell_type": "code",
   "execution_count": 6,
   "id": "982a33cd",
   "metadata": {},
   "outputs": [
    {
     "data": {
      "text/plain": [
       "1447    3.424416e+09\n",
       "1448    4.732068e+09\n",
       "1449    5.264858e+09\n",
       "1450    3.565092e+09\n",
       "1451    4.677580e+09\n",
       "1452    8.046172e+09\n",
       "1453    6.681324e+09\n",
       "1454    5.699700e+09\n",
       "1455    6.347996e+09\n",
       "1456    3.760496e+09\n",
       "1457    3.512291e+09\n",
       "1458    2.600397e+09\n",
       "1459    2.237836e+09\n",
       "1460    2.836629e+09\n",
       "1461    2.088121e+09\n",
       "Name: Volume, dtype: float64"
      ]
     },
     "execution_count": 6,
     "metadata": {},
     "output_type": "execute_result"
    }
   ],
   "source": [
    "Doge_Coin_Data['Volume'].tail(15)"
   ]
  },
  {
   "cell_type": "markdown",
   "id": "e0d72d9f",
   "metadata": {},
   "source": [
    "<h3>Plotting Graphs</h3>"
   ]
  },
  {
   "cell_type": "code",
   "execution_count": 15,
   "id": "7501cbf2",
   "metadata": {},
   "outputs": [
    {
     "data": {
      "text/plain": [
       "<matplotlib.collections.PathCollection at 0x7f9ec1b61490>"
      ]
     },
     "execution_count": 15,
     "metadata": {},
     "output_type": "execute_result"
    },
    {
     "data": {
      "image/png": "[encoded data removed]",
      "text/plain": [
       "<Figure size 432x288 with 1 Axes>"
      ]
     },
     "metadata": {
      "needs_background": "light"
     },
     "output_type": "display_data"
    }
   ],
   "source": [
    "import matplotlib.pyplot as mtlp\n",
    "\n",
    "mtlp.scatter(x = Doge_Coin_Data['Close'], y = Doge_Coin_Data['Volume'])"
   ]
  },
  {
   "cell_type": "code",
   "execution_count": 16,
   "id": "289b4091",
   "metadata": {},
   "outputs": [
    {
     "data": {
      "text/plain": [
       "count    1.458000e+03\n",
       "mean     9.026038e+08\n",
       "std      3.842058e+09\n",
       "min      1.072410e+06\n",
       "25%      1.672411e+07\n",
       "50%      4.818314e+07\n",
       "75%      1.610538e+08\n",
       "max      6.941068e+10\n",
       "Name: Volume, dtype: float64"
      ]
     },
     "execution_count": 16,
     "metadata": {},
     "output_type": "execute_result"
    }
   ],
   "source": [
    "Doge_Coin_Data['Volume'].describe()"
   ]
  },
  {
   "cell_type": "code",
   "execution_count": 18,
   "id": "55891775",
   "metadata": {},
   "outputs": [
    {
     "name": "stdout",
     "output_type": "stream",
     "text": [
      "16724108.25 161053805.25 144329697.0\n"
     ]
    }
   ],
   "source": [
    "q1=Doge_Coin_Data['Volume'].quantile(0.25)\n",
    "q3=Doge_Coin_Data['Volume'].quantile(0.75)\n",
    "\n",
    "\n",
    "iqr=q3-q1\n",
    "\n",
    "print(q1,q3,iqr)"
   ]
  },
  {
   "cell_type": "code",
   "execution_count": 19,
   "id": "63310b53",
   "metadata": {},
   "outputs": [
    {
     "name": "stdout",
     "output_type": "stream",
     "text": [
      "377548350.75 -199770437.25\n"
     ]
    }
   ],
   "source": [
    "upper_limit = q3+1.5*iqr\n",
    "lower_limit = q1-1.5*iqr\n",
    "\n",
    "print(upper_limit,lower_limit)"
   ]
  },
  {
   "cell_type": "code",
   "execution_count": null,
   "id": "9ddd0121",
   "metadata": {},
   "outputs": [],
   "source": [
    "Doge_Coin_Data['Volume']"
   ]
  },
  {
   "cell_type": "code",
   "execution_count": 10,
   "id": "d6adcca8",
   "metadata": {
    "scrolled": true
   },
   "outputs": [
    {
     "data": {
      "image/png": "[encoded data removed]",
      "text/plain": [
       "<Figure size 432x288 with 1 Axes>"
      ]
     },
     "metadata": {
      "needs_background": "light"
     },
     "output_type": "display_data"
    }
   ],
   "source": [
    "import matplotlib.pyplot as mtlp\n",
    "\n",
    "mtlp.hist(Doge_Coin_Data[\"Volume\"], bins = 10, color='green')\n",
    "mtlp.xlabel('Intervals')\n",
    "mtlp.ylabel('Volume')\n",
    "mtlp.title(\"Volume_Histogram\")\n",
    "mtlp.show()"
   ]
  },
  {
   "cell_type": "code",
   "execution_count": null,
   "id": "f64fa039",
   "metadata": {},
   "outputs": [],
   "source": []
  }
 ],
 "metadata": {
  "kernelspec": {
   "display_name": "Python 3",
   "language": "python",
   "name": "python3"
  },
  "language_info": {
   "codemirror_mode": {
    "name": "ipython",
    "version": 3
   },
   "file_extension": ".py",
   "mimetype": "text/x-python",
   "name": "python",
   "nbconvert_exporter": "python",
   "pygments_lexer": "ipython3",
   "version": "3.8.8"
  }
 },
 "nbformat": 4,
 "nbformat_minor": 5
}
