{
 "cells": [
  {
   "cell_type": "markdown",
   "id": "6ba3f678",
   "metadata": {},
   "source": [
    "<h2>Treating outliers</h2>\n"
   ]
  },
  {
   "cell_type": "code",
   "execution_count": 3,
   "id": "01b428dd",
   "metadata": {},
   "outputs": [],
   "source": [
    "import pandas as pd\n",
    "\n",
    "Housing_data = pd.read_csv(\"1. Regression - Module - (Housing Prices).csv\")"
   ]
  },
  {
   "cell_type": "code",
   "execution_count": null,
   "id": "64d8b816",
   "metadata": {},
   "outputs": [],
   "source": []
  },
  {
   "cell_type": "code",
   "execution_count": 13,
   "id": "fcb011e5",
   "metadata": {},
   "outputs": [
    {
     "name": "stdout",
     "output_type": "stream",
     "text": [
      "323050.0 321950.0 645000.0\n"
     ]
    }
   ],
   "source": [
    "q1 = Housing_data[\"Sale Price\"].quantile(0.25)\n",
    "q3 = Housing_data[\"Sale Price\"].quantile(0.75)\n",
    "\n",
    "iqr = q3 - q1\n",
    "print(iqr, q1, q2)"
   ]
  },
  {
   "cell_type": "code",
   "execution_count": 15,
   "id": "da3fea8e",
   "metadata": {},
   "outputs": [
    {
     "name": "stdout",
     "output_type": "stream",
     "text": [
      "1129575.0 -162625.0\n"
     ]
    }
   ],
   "source": [
    "upper_limit = q3 + 1.5 * iqr\n",
    "lower_limit = q1 - 1.5 * iqr\n",
    "\n",
    "print(upper_limit, lower_limit)"
   ]
  },
  {
   "cell_type": "markdown",
   "id": "7f786e83",
   "metadata": {},
   "source": [
    "<h3>Removing Outlier using Imput method: </h3>"
   ]
  },
  {
   "cell_type": "code",
   "execution_count": 17,
   "id": "1d04d622",
   "metadata": {},
   "outputs": [],
   "source": [
    "def outlier_imputer(val):\n",
    "    if val>upper_limit:\n",
    "        return upper_limit\n",
    "    elif val<lower_limit:\n",
    "        return lower_limit\n",
    "    else:\n",
    "        return val"
   ]
  },
  {
   "cell_type": "code",
   "execution_count": 18,
   "id": "55721929",
   "metadata": {},
   "outputs": [],
   "source": [
    "Housing_data['Sale Price']=Housing_data['Sale Price'].apply(outlier_imputer)"
   ]
  },
  {
   "cell_type": "code",
   "execution_count": 19,
   "id": "96eb5e11",
   "metadata": {},
   "outputs": [
    {
     "data": {
      "text/plain": [
       "count    2.160900e+04\n",
       "mean     5.116186e+05\n",
       "std      2.500620e+05\n",
       "min      7.500000e+04\n",
       "25%      3.219500e+05\n",
       "50%      4.500000e+05\n",
       "75%      6.450000e+05\n",
       "max      1.129575e+06\n",
       "Name: Sale Price, dtype: float64"
      ]
     },
     "execution_count": 19,
     "metadata": {},
     "output_type": "execute_result"
    }
   ],
   "source": [
    "Housing_data['Sale Price'].describe()"
   ]
  },
  {
   "cell_type": "code",
   "execution_count": null,
   "id": "1c38f559",
   "metadata": {},
   "outputs": [],
   "source": []
  }
 ],
 "metadata": {
  "kernelspec": {
   "display_name": "Python 3",
   "language": "python",
   "name": "python3"
  },
  "language_info": {
   "codemirror_mode": {
    "name": "ipython",
    "version": 3
   },
   "file_extension": ".py",
   "mimetype": "text/x-python",
   "name": "python",
   "nbconvert_exporter": "python",
   "pygments_lexer": "ipython3",
   "version": "3.8.8"
  }
 },
 "nbformat": 4,
 "nbformat_minor": 5
}
